{
 "cells": [
  {
   "cell_type": "code",
   "execution_count": 8,
   "id": "58032daa",
   "metadata": {},
   "outputs": [
    {
     "name": "stdout",
     "output_type": "stream",
     "text": [
      "Requirement already satisfied: fiftyone in c:\\users\\irina\\anaconda3\\lib\\site-packages (0.20.0)\n",
      "Requirement already satisfied: Deprecated in c:\\users\\irina\\anaconda3\\lib\\site-packages (from fiftyone) (1.2.13)\n",
      "Requirement already satisfied: argcomplete in c:\\users\\irina\\anaconda3\\lib\\site-packages (from fiftyone) (3.0.4)\n",
      "Requirement already satisfied: aiofiles in c:\\users\\irina\\anaconda3\\lib\\site-packages (from fiftyone) (23.1.0)\n",
      "Requirement already satisfied: ftfy in c:\\users\\irina\\anaconda3\\lib\\site-packages (from fiftyone) (6.1.1)\n",
      "Requirement already satisfied: pandas in c:\\users\\irina\\anaconda3\\lib\\site-packages (from fiftyone) (1.4.2)\n",
      "Requirement already satisfied: universal-analytics-python3<2,>=1.0.1 in c:\\users\\irina\\anaconda3\\lib\\site-packages (from fiftyone) (1.1.1)\n",
      "Requirement already satisfied: fiftyone-db<0.5,>=0.4 in c:\\users\\irina\\anaconda3\\lib\\site-packages (from fiftyone) (0.4.0)\n",
      "Requirement already satisfied: mongoengine==0.24.2 in c:\\users\\irina\\anaconda3\\lib\\site-packages (from fiftyone) (0.24.2)\n",
      "Requirement already satisfied: regex in c:\\users\\irina\\anaconda3\\lib\\site-packages (from fiftyone) (2022.3.15)\n",
      "Requirement already satisfied: scikit-image in c:\\users\\irina\\anaconda3\\lib\\site-packages (from fiftyone) (0.19.2)\n",
      "Requirement already satisfied: xmltodict in c:\\users\\irina\\anaconda3\\lib\\site-packages (from fiftyone) (0.13.0)\n",
      "Requirement already satisfied: pymongo>=3.12 in c:\\users\\irina\\anaconda3\\lib\\site-packages (from fiftyone) (4.3.3)\n",
      "Requirement already satisfied: setuptools in c:\\users\\irina\\anaconda3\\lib\\site-packages (from fiftyone) (61.2.0)\n",
      "Requirement already satisfied: sse-starlette<1,>=0.10.3 in c:\\users\\irina\\anaconda3\\lib\\site-packages (from fiftyone) (0.10.3)\n",
      "Requirement already satisfied: hypercorn>=0.13.2 in c:\\users\\irina\\anaconda3\\lib\\site-packages (from fiftyone) (0.14.3)\n",
      "Requirement already satisfied: starlette==0.20.4 in c:\\users\\irina\\anaconda3\\lib\\site-packages (from fiftyone) (0.20.4)\n",
      "Requirement already satisfied: PyYAML in c:\\users\\irina\\anaconda3\\lib\\site-packages (from fiftyone) (6.0)\n",
      "Requirement already satisfied: tabulate in c:\\users\\irina\\anaconda3\\lib\\site-packages (from fiftyone) (0.8.9)\n",
      "Requirement already satisfied: eventlet in c:\\users\\irina\\anaconda3\\lib\\site-packages (from fiftyone) (0.33.3)\n",
      "Requirement already satisfied: motor>=2.5 in c:\\users\\irina\\anaconda3\\lib\\site-packages (from fiftyone) (3.1.1)\n",
      "Requirement already satisfied: psutil in c:\\users\\irina\\anaconda3\\lib\\site-packages (from fiftyone) (5.8.0)\n",
      "Requirement already satisfied: scikit-learn in c:\\users\\irina\\anaconda3\\lib\\site-packages (from fiftyone) (1.0.2)\n",
      "Requirement already satisfied: sseclient-py<2,>=1.7.2 in c:\\users\\irina\\anaconda3\\lib\\site-packages (from fiftyone) (1.7.2)\n",
      "Requirement already satisfied: numpy in c:\\users\\irina\\anaconda3\\lib\\site-packages (from fiftyone) (1.21.5)\n",
      "Requirement already satisfied: opencv-python-headless in c:\\users\\irina\\anaconda3\\lib\\site-packages (from fiftyone) (4.7.0.72)\n",
      "Requirement already satisfied: boto3 in c:\\users\\irina\\anaconda3\\lib\\site-packages (from fiftyone) (1.21.32)\n",
      "Requirement already satisfied: kaleido in c:\\users\\irina\\anaconda3\\lib\\site-packages (from fiftyone) (0.2.1)\n",
      "Requirement already satisfied: Jinja2>=3 in c:\\users\\irina\\anaconda3\\lib\\site-packages (from fiftyone) (3.1.2)\n",
      "Requirement already satisfied: pprintpp in c:\\users\\irina\\anaconda3\\lib\\site-packages (from fiftyone) (0.4.0)\n",
      "Requirement already satisfied: Pillow>=6.2 in c:\\users\\irina\\anaconda3\\lib\\site-packages (from fiftyone) (9.0.1)\n",
      "Requirement already satisfied: packaging in c:\\users\\irina\\anaconda3\\lib\\site-packages (from fiftyone) (21.3)\n",
      "Requirement already satisfied: strawberry-graphql==0.138.1 in c:\\users\\irina\\anaconda3\\lib\\site-packages (from fiftyone) (0.138.1)\n",
      "Requirement already satisfied: pytz in c:\\users\\irina\\anaconda3\\lib\\site-packages (from fiftyone) (2021.3)\n",
      "Requirement already satisfied: retrying in c:\\users\\irina\\anaconda3\\lib\\site-packages (from fiftyone) (1.3.4)\n",
      "Requirement already satisfied: voxel51-eta<0.9,>=0.8.4 in c:\\users\\irina\\anaconda3\\lib\\site-packages (from fiftyone) (0.8.4)\n",
      "Requirement already satisfied: dacite<1.8.0,>=1.6.0 in c:\\users\\irina\\anaconda3\\lib\\site-packages (from fiftyone) (1.7.0)\n",
      "Requirement already satisfied: future in c:\\users\\irina\\anaconda3\\lib\\site-packages (from fiftyone) (0.18.2)\n",
      "Requirement already satisfied: plotly>=4.14 in c:\\users\\irina\\anaconda3\\lib\\site-packages (from fiftyone) (5.6.0)\n",
      "Requirement already satisfied: cachetools in c:\\users\\irina\\anaconda3\\lib\\site-packages (from fiftyone) (4.2.2)\n",
      "Requirement already satisfied: fiftyone-brain<0.12,>=0.11 in c:\\users\\irina\\anaconda3\\lib\\site-packages (from fiftyone) (0.11.0)\n",
      "Requirement already satisfied: ndjson in c:\\users\\irina\\anaconda3\\lib\\site-packages (from fiftyone) (0.3.1)\n",
      "Requirement already satisfied: matplotlib in c:\\users\\irina\\anaconda3\\lib\\site-packages (from fiftyone) (3.5.1)\n",
      "Requirement already satisfied: typing-extensions>=3.10.0 in c:\\users\\irina\\anaconda3\\lib\\site-packages (from starlette==0.20.4->fiftyone) (4.1.1)\n",
      "Requirement already satisfied: anyio<5,>=3.4.0 in c:\\users\\irina\\anaconda3\\lib\\site-packages (from starlette==0.20.4->fiftyone) (3.5.0)\n",
      "Requirement already satisfied: python-dateutil<3.0.0,>=2.7.0 in c:\\users\\irina\\anaconda3\\lib\\site-packages (from strawberry-graphql==0.138.1->fiftyone) (2.8.2)\n",
      "Requirement already satisfied: graphql-core<3.3.0,>=3.2.0 in c:\\users\\irina\\anaconda3\\lib\\site-packages (from strawberry-graphql==0.138.1->fiftyone) (3.2.3)\n",
      "Requirement already satisfied: idna>=2.8 in c:\\users\\irina\\anaconda3\\lib\\site-packages (from anyio<5,>=3.4.0->starlette==0.20.4->fiftyone) (3.3)\n",
      "Requirement already satisfied: sniffio>=1.1 in c:\\users\\irina\\anaconda3\\lib\\site-packages (from anyio<5,>=3.4.0->starlette==0.20.4->fiftyone) (1.2.0)\n",
      "Requirement already satisfied: scipy>=1.2.0 in c:\\users\\irina\\anaconda3\\lib\\site-packages (from fiftyone-brain<0.12,>=0.11->fiftyone) (1.7.3)\n",
      "Requirement already satisfied: toml in c:\\users\\irina\\anaconda3\\lib\\site-packages (from hypercorn>=0.13.2->fiftyone) (0.10.2)\n",
      "Requirement already satisfied: h2>=3.1.0 in c:\\users\\irina\\anaconda3\\lib\\site-packages (from hypercorn>=0.13.2->fiftyone) (4.1.0)\n",
      "Requirement already satisfied: wsproto>=0.14.0 in c:\\users\\irina\\anaconda3\\lib\\site-packages (from hypercorn>=0.13.2->fiftyone) (1.2.0)\n",
      "Requirement already satisfied: h11 in c:\\users\\irina\\anaconda3\\lib\\site-packages (from hypercorn>=0.13.2->fiftyone) (0.14.0)\n",
      "Requirement already satisfied: priority in c:\\users\\irina\\anaconda3\\lib\\site-packages (from hypercorn>=0.13.2->fiftyone) (2.0.0)\n",
      "Requirement already satisfied: hpack<5,>=4.0 in c:\\users\\irina\\anaconda3\\lib\\site-packages (from h2>=3.1.0->hypercorn>=0.13.2->fiftyone) (4.0.0)\n",
      "Requirement already satisfied: hyperframe<7,>=6.0 in c:\\users\\irina\\anaconda3\\lib\\site-packages (from h2>=3.1.0->hypercorn>=0.13.2->fiftyone) (6.0.1)\n",
      "Requirement already satisfied: MarkupSafe>=2.0 in c:\\users\\irina\\anaconda3\\lib\\site-packages (from Jinja2>=3->fiftyone) (2.0.1)\n",
      "Requirement already satisfied: six in c:\\users\\irina\\anaconda3\\lib\\site-packages (from plotly>=4.14->fiftyone) (1.16.0)\n",
      "Requirement already satisfied: tenacity>=6.2.0 in c:\\users\\irina\\anaconda3\\lib\\site-packages (from plotly>=4.14->fiftyone) (8.0.1)\n",
      "Requirement already satisfied: dnspython<3.0.0,>=1.16.0 in c:\\users\\irina\\anaconda3\\lib\\site-packages (from pymongo>=3.12->fiftyone) (2.3.0)\n",
      "Requirement already satisfied: httpx>=0.10.0 in c:\\users\\irina\\anaconda3\\lib\\site-packages (from universal-analytics-python3<2,>=1.0.1->fiftyone) (0.23.3)\n",
      "Requirement already satisfied: httpcore<0.17.0,>=0.15.0 in c:\\users\\irina\\anaconda3\\lib\\site-packages (from httpx>=0.10.0->universal-analytics-python3<2,>=1.0.1->fiftyone) (0.16.3)\n",
      "Requirement already satisfied: rfc3986[idna2008]<2,>=1.3 in c:\\users\\irina\\anaconda3\\lib\\site-packages (from httpx>=0.10.0->universal-analytics-python3<2,>=1.0.1->fiftyone) (1.5.0)\n",
      "Requirement already satisfied: certifi in c:\\users\\irina\\anaconda3\\lib\\site-packages (from httpx>=0.10.0->universal-analytics-python3<2,>=1.0.1->fiftyone) (2021.10.8)\n",
      "Requirement already satisfied: dill in c:\\users\\irina\\anaconda3\\lib\\site-packages (from voxel51-eta<0.9,>=0.8.4->fiftyone) (0.3.6)\n",
      "Requirement already satisfied: glob2 in c:\\users\\irina\\anaconda3\\lib\\site-packages (from voxel51-eta<0.9,>=0.8.4->fiftyone) (0.7)\n",
      "Requirement already satisfied: tzlocal in c:\\users\\irina\\anaconda3\\lib\\site-packages (from voxel51-eta<0.9,>=0.8.4->fiftyone) (4.3)\n",
      "Requirement already satisfied: urllib3 in c:\\users\\irina\\anaconda3\\lib\\site-packages (from voxel51-eta<0.9,>=0.8.4->fiftyone) (1.26.9)\n",
      "Requirement already satisfied: requests in c:\\users\\irina\\anaconda3\\lib\\site-packages (from voxel51-eta<0.9,>=0.8.4->fiftyone) (2.27.1)\n",
      "Requirement already satisfied: patool in c:\\users\\irina\\anaconda3\\lib\\site-packages (from voxel51-eta<0.9,>=0.8.4->fiftyone) (1.12)\n",
      "Requirement already satisfied: sortedcontainers in c:\\users\\irina\\anaconda3\\lib\\site-packages (from voxel51-eta<0.9,>=0.8.4->fiftyone) (2.4.0)\n",
      "Requirement already satisfied: botocore<1.25.0,>=1.24.32 in c:\\users\\irina\\anaconda3\\lib\\site-packages (from boto3->fiftyone) (1.24.32)\n",
      "Requirement already satisfied: jmespath<2.0.0,>=0.7.1 in c:\\users\\irina\\anaconda3\\lib\\site-packages (from boto3->fiftyone) (0.10.0)\n",
      "Requirement already satisfied: s3transfer<0.6.0,>=0.5.0 in c:\\users\\irina\\anaconda3\\lib\\site-packages (from boto3->fiftyone) (0.5.0)\n",
      "Requirement already satisfied: wrapt<2,>=1.10 in c:\\users\\irina\\anaconda3\\lib\\site-packages (from Deprecated->fiftyone) (1.12.1)\n",
      "Requirement already satisfied: greenlet>=0.3 in c:\\users\\irina\\anaconda3\\lib\\site-packages (from eventlet->fiftyone) (1.1.1)\n",
      "Requirement already satisfied: wcwidth>=0.2.5 in c:\\users\\irina\\anaconda3\\lib\\site-packages (from ftfy->fiftyone) (0.2.5)\n",
      "Requirement already satisfied: pyparsing>=2.2.1 in c:\\users\\irina\\anaconda3\\lib\\site-packages (from matplotlib->fiftyone) (3.0.4)\n",
      "Requirement already satisfied: cycler>=0.10 in c:\\users\\irina\\anaconda3\\lib\\site-packages (from matplotlib->fiftyone) (0.11.0)\n",
      "Requirement already satisfied: kiwisolver>=1.0.1 in c:\\users\\irina\\anaconda3\\lib\\site-packages (from matplotlib->fiftyone) (1.3.2)\n",
      "Requirement already satisfied: fonttools>=4.22.0 in c:\\users\\irina\\anaconda3\\lib\\site-packages (from matplotlib->fiftyone) (4.25.0)\n",
      "Requirement already satisfied: charset-normalizer~=2.0.0 in c:\\users\\irina\\anaconda3\\lib\\site-packages (from requests->voxel51-eta<0.9,>=0.8.4->fiftyone) (2.0.4)\n",
      "Requirement already satisfied: imageio>=2.4.1 in c:\\users\\irina\\anaconda3\\lib\\site-packages (from scikit-image->fiftyone) (2.9.0)\n",
      "Requirement already satisfied: PyWavelets>=1.1.1 in c:\\users\\irina\\anaconda3\\lib\\site-packages (from scikit-image->fiftyone) (1.3.0)\n",
      "Requirement already satisfied: networkx>=2.2 in c:\\users\\irina\\anaconda3\\lib\\site-packages (from scikit-image->fiftyone) (2.7.1)\n",
      "Requirement already satisfied: tifffile>=2019.7.26 in c:\\users\\irina\\anaconda3\\lib\\site-packages (from scikit-image->fiftyone) (2021.7.2)\n",
      "Requirement already satisfied: threadpoolctl>=2.0.0 in c:\\users\\irina\\anaconda3\\lib\\site-packages (from scikit-learn->fiftyone) (2.2.0)\n",
      "Requirement already satisfied: joblib>=0.11 in c:\\users\\irina\\anaconda3\\lib\\site-packages (from scikit-learn->fiftyone) (1.1.0)\n",
      "Requirement already satisfied: tzdata in c:\\users\\irina\\anaconda3\\lib\\site-packages (from tzlocal->voxel51-eta<0.9,>=0.8.4->fiftyone) (2022.7)\n",
      "Requirement already satisfied: pytz-deprecation-shim in c:\\users\\irina\\anaconda3\\lib\\site-packages (from tzlocal->voxel51-eta<0.9,>=0.8.4->fiftyone) (0.1.0.post0)\n"
     ]
    }
   ],
   "source": [
    "! pip install fiftyone\n"
   ]
  },
  {
   "cell_type": "code",
   "execution_count": 9,
   "id": "e58b0fb5",
   "metadata": {},
   "outputs": [],
   "source": [
    "import fiftyone as fo"
   ]
  },
  {
   "cell_type": "code",
   "execution_count": 10,
   "id": "733df708",
   "metadata": {},
   "outputs": [],
   "source": [
    "import fiftyone.zoo as foz"
   ]
  },
  {
   "cell_type": "code",
   "execution_count": 12,
   "id": "3cf30c83",
   "metadata": {},
   "outputs": [
    {
     "name": "stdout",
     "output_type": "stream",
     "text": [
      "Downloading split 'validation' to 'C:\\Users\\irina\\fiftyone\\coco-2017\\validation' if necessary\n",
      "Found annotations at 'C:\\Users\\irina\\fiftyone\\coco-2017\\raw\\instances_val2017.json'\n",
      "Images already downloaded\n",
      "Existing download of split 'validation' is sufficient\n",
      "Loading 'coco-2017' split 'validation'\n",
      " 100% |███████████████| 5000/5000 [41.8s elapsed, 0s remaining, 141.8 samples/s]      \n",
      "Dataset 'coco-2017-validation' created\n"
     ]
    }
   ],
   "source": [
    "dataset = foz.load_zoo_dataset(\"coco-2017\", split=\"validation\")"
   ]
  },
  {
   "cell_type": "code",
   "execution_count": 17,
   "id": "d99c25bc",
   "metadata": {},
   "outputs": [
    {
     "name": "stdout",
     "output_type": "stream",
     "text": [
      "Connected to FiftyOne on port 5151 at localhost.\n",
      "If you are not connecting to a remote session, you may need to start a new session and specify a port\n"
     ]
    },
    {
     "data": {
      "text/html": [
       "\n",
       "        <iframe\n",
       "            width=\"100%\"\n",
       "            height=\"800\"\n",
       "            src=\"http://localhost:5151/?notebook=True&subscription=a6370f13-9e54-464d-9e17-2c2c4e9d75ec\"\n",
       "            frameborder=\"0\"\n",
       "            allowfullscreen\n",
       "            \n",
       "        ></iframe>\n",
       "        "
      ],
      "text/plain": [
       "<IPython.lib.display.IFrame at 0x219769f8040>"
      ]
     },
     "metadata": {},
     "output_type": "display_data"
    }
   ],
   "source": [
    "session = fo.launch_app(dataset)"
   ]
  },
  {
   "cell_type": "code",
   "execution_count": 18,
   "id": "ffb7f83d",
   "metadata": {},
   "outputs": [
    {
     "name": "stdout",
     "output_type": "stream",
     "text": [
      "['activitynet-100', 'activitynet-200', 'bdd100k', 'caltech101', 'caltech256', 'cifar10', 'cifar100', 'cityscapes', 'coco-2014', 'coco-2017', 'fashion-mnist', 'fiw', 'hmdb51', 'imagenet-2012', 'imagenet-sample', 'kinetics-400', 'kinetics-600', 'kinetics-700', 'kinetics-700-2020', 'kitti', 'kitti-multiview', 'lfw', 'mnist', 'open-images-v6', 'open-images-v7', 'quickstart', 'quickstart-geo', 'quickstart-groups', 'quickstart-video', 'ucf101', 'voc-2007', 'voc-2012']\n"
     ]
    }
   ],
   "source": [
    "available_datasets = foz.list_zoo_datasets()\n",
    "print(available_datasets)"
   ]
  },
  {
   "cell_type": "code",
   "execution_count": null,
   "id": "220c7368",
   "metadata": {},
   "outputs": [],
   "source": []
  }
 ],
 "metadata": {
  "kernelspec": {
   "display_name": "Python 3 (ipykernel)",
   "language": "python",
   "name": "python3"
  },
  "language_info": {
   "codemirror_mode": {
    "name": "ipython",
    "version": 3
   },
   "file_extension": ".py",
   "mimetype": "text/x-python",
   "name": "python",
   "nbconvert_exporter": "python",
   "pygments_lexer": "ipython3",
   "version": "3.9.12"
  }
 },
 "nbformat": 4,
 "nbformat_minor": 5
}
